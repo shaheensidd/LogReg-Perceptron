{
  "nbformat": 4,
  "nbformat_minor": 0,
  "metadata": {
    "colab": {
      "name": "IML_A2_Q2.ipynb",
      "provenance": []
    },
    "kernelspec": {
      "name": "python3",
      "display_name": "Python 3"
    },
    "language_info": {
      "name": "python"
    }
  },
  "cells": [
    {
      "cell_type": "markdown",
      "metadata": {
        "id": "tyEH2cioQ7p3"
      },
      "source": [
        "##2. (2 points) estimate the mean squared error (MSE) for linear regression as well as the bias and variance for the model.\n"
      ]
    },
    {
      "cell_type": "code",
      "metadata": {
        "id": "po_3RlL8NmKJ"
      },
      "source": [
        "#import important libraries\n",
        "\n",
        "from mlxtend.evaluate import bias_variance_decomp\n",
        "from sklearn.model_selection import train_test_split\n",
        "import pandas as pd\n",
        "import matplotlib.pyplot as plt\n",
        "import numpy as np\n",
        "from sklearn.linear_model import LinearRegression\n",
        "import warnings\n",
        "warnings.filterwarnings('ignore')"
      ],
      "execution_count": 15,
      "outputs": []
    },
    {
      "cell_type": "code",
      "metadata": {
        "id": "TqHIvRyfN1rZ"
      },
      "source": [
        "#load the Boston house dataset for our task\n",
        "from sklearn.datasets import load_boston\n",
        "from sklearn import metrics\n",
        "\n",
        "#X---> features\n",
        "#y...> label/output\n",
        "X, y = load_boston(return_X_y=True)"
      ],
      "execution_count": 16,
      "outputs": []
    },
    {
      "cell_type": "code",
      "metadata": {
        "id": "mlXgbWAerHi5"
      },
      "source": [
        "#split dataset into training and test dataset\n",
        "X_train, X_test, y_train, y_test = train_test_split(X, y, test_size=0.2, random_state=42)"
      ],
      "execution_count": 17,
      "outputs": []
    },
    {
      "cell_type": "code",
      "metadata": {
        "colab": {
          "base_uri": "https://localhost:8080/"
        },
        "id": "7GjBobn2NiMc",
        "outputId": "b5165b0e-d4a7-4864-8408-fb0d50624a2d"
      },
      "source": [
        "# LR Model without NN\n",
        "lr = LinearRegression()\n",
        "\n",
        "# Estimate the bias and variance using bias_variance_decomp \n",
        "mse, bias, var = bias_variance_decomp(lr, X_train, y_train, X_test, y_test, loss='mse', num_rounds=200, random_seed=123)\n",
        "y_pred = lr.predict(X_test)\n",
        "\n",
        "# print results\n",
        "print('MSE or the Average expected loss by using bias_variance_decomp library=]: %.3f' % mse)\n",
        "print('Average Bias = %.3f' % bias)\n",
        "print('Average Variance = %.3f' % var)\n",
        "print('Mean Square error by using the Sckit-learn lib = %.3f' % metrics.mean_squared_error(y_test,y_pred))"
      ],
      "execution_count": 19,
      "outputs": [
        {
          "output_type": "stream",
          "text": [
            "MSE or the Average expected loss by using bias_variance_decomp library=]: 25.523\n",
            "Average Bias = 24.427\n",
            "Average Variance = 1.095\n",
            "Mean Square error by using the Sckit-learn lib = 25.053\n"
          ],
          "name": "stdout"
        }
      ]
    },
    {
      "cell_type": "code",
      "metadata": {
        "id": "aLgODUB1rn7R"
      },
      "source": [
        "############################################################################"
      ],
      "execution_count": null,
      "outputs": []
    },
    {
      "cell_type": "code",
      "metadata": {
        "colab": {
          "base_uri": "https://localhost:8080/",
          "height": 508
        },
        "id": "InryqNxqrP-3",
        "outputId": "c2b4c89c-dfaf-4879-899a-79d5e02befa9"
      },
      "source": [
        "%pip install mlxtend --upgrade\n",
        "#used to decompose bias and variance in our models"
      ],
      "execution_count": 2,
      "outputs": [
        {
          "output_type": "stream",
          "text": [
            "Collecting mlxtend\n",
            "\u001b[?25l  Downloading https://files.pythonhosted.org/packages/86/30/781c0b962a70848db83339567ecab656638c62f05adb064cb33c0ae49244/mlxtend-0.18.0-py2.py3-none-any.whl (1.3MB)\n",
            "\u001b[K     |████████████████████████████████| 1.4MB 4.3MB/s \n",
            "\u001b[?25hRequirement already satisfied, skipping upgrade: pandas>=0.24.2 in /usr/local/lib/python3.7/dist-packages (from mlxtend) (1.1.5)\n",
            "Requirement already satisfied, skipping upgrade: numpy>=1.16.2 in /usr/local/lib/python3.7/dist-packages (from mlxtend) (1.19.5)\n",
            "Requirement already satisfied, skipping upgrade: scikit-learn>=0.20.3 in /usr/local/lib/python3.7/dist-packages (from mlxtend) (0.22.2.post1)\n",
            "Requirement already satisfied, skipping upgrade: joblib>=0.13.2 in /usr/local/lib/python3.7/dist-packages (from mlxtend) (1.0.1)\n",
            "Requirement already satisfied, skipping upgrade: scipy>=1.2.1 in /usr/local/lib/python3.7/dist-packages (from mlxtend) (1.4.1)\n",
            "Requirement already satisfied, skipping upgrade: matplotlib>=3.0.0 in /usr/local/lib/python3.7/dist-packages (from mlxtend) (3.2.2)\n",
            "Requirement already satisfied, skipping upgrade: setuptools in /usr/local/lib/python3.7/dist-packages (from mlxtend) (56.1.0)\n",
            "Requirement already satisfied, skipping upgrade: pytz>=2017.2 in /usr/local/lib/python3.7/dist-packages (from pandas>=0.24.2->mlxtend) (2018.9)\n",
            "Requirement already satisfied, skipping upgrade: python-dateutil>=2.7.3 in /usr/local/lib/python3.7/dist-packages (from pandas>=0.24.2->mlxtend) (2.8.1)\n",
            "Requirement already satisfied, skipping upgrade: kiwisolver>=1.0.1 in /usr/local/lib/python3.7/dist-packages (from matplotlib>=3.0.0->mlxtend) (1.3.1)\n",
            "Requirement already satisfied, skipping upgrade: pyparsing!=2.0.4,!=2.1.2,!=2.1.6,>=2.0.1 in /usr/local/lib/python3.7/dist-packages (from matplotlib>=3.0.0->mlxtend) (2.4.7)\n",
            "Requirement already satisfied, skipping upgrade: cycler>=0.10 in /usr/local/lib/python3.7/dist-packages (from matplotlib>=3.0.0->mlxtend) (0.10.0)\n",
            "Requirement already satisfied, skipping upgrade: six>=1.5 in /usr/local/lib/python3.7/dist-packages (from python-dateutil>=2.7.3->pandas>=0.24.2->mlxtend) (1.15.0)\n",
            "Installing collected packages: mlxtend\n",
            "  Found existing installation: mlxtend 0.14.0\n",
            "    Uninstalling mlxtend-0.14.0:\n",
            "      Successfully uninstalled mlxtend-0.14.0\n",
            "Successfully installed mlxtend-0.18.0\n"
          ],
          "name": "stdout"
        },
        {
          "output_type": "display_data",
          "data": {
            "application/vnd.colab-display-data+json": {
              "pip_warning": {
                "packages": [
                  "mlxtend"
                ]
              }
            }
          },
          "metadata": {
            "tags": []
          }
        }
      ]
    },
    {
      "cell_type": "code",
      "metadata": {
        "id": "t2TTBtyGMSiB"
      },
      "source": [
        "#LR model using NN"
      ],
      "execution_count": null,
      "outputs": []
    },
    {
      "cell_type": "code",
      "metadata": {
        "colab": {
          "base_uri": "https://localhost:8080/"
        },
        "id": "HNOh02InMTX7",
        "outputId": "c7d47f6f-8b70-4fd3-b5bf-acdad0167467"
      },
      "source": [
        "#set seed values for numpy and tensorflow for reproducible results\n",
        "np.random.seed(1)\n",
        "tf.random.set_seed(1)\n",
        "\n",
        "#spiltting the dataset into features and target\n",
        "X, y = boston_housing_data()\n",
        "\n",
        "#spiltting the dataset into training and test set\n",
        "X_train, X_test, y_train, y_test = train_test_split(X, y, test_size=0.2, random_state=42, shuffle=True)\n",
        "print ('Train set shape:', X_train.shape,  y_train.shape)\n",
        "print ('Test set shape:', X_test.shape,  y_test.shape)\n",
        "\n",
        "lr_model = tf.keras.Sequential([\n",
        "    tf.keras.layers.Dense(32, activation=tf.nn.relu),\n",
        "    tf.keras.layers.Dense(1)\n",
        "  ])\n",
        "\n",
        "#optimizer\n",
        "opt = tf.keras.optimizers.Adam()\n",
        "\n",
        "#training the LR model\n",
        "lr_model.compile(loss='mean_squared_error', optimizer=opt)\n",
        "\n",
        "#fit the model\n",
        "lr_model.fit(X_train, y_train, epochs=100, verbose=0)\n",
        "\n",
        "#print \n",
        "print(\"\\nAverage MSE using NN=\", mean_squared_error(lr_model.predict(X_test), y_test))\n",
        "\n",
        "#set seed values for numpy and tensorflow for reproducible results\n",
        "np.random.seed(10)\n",
        "tf.random.set_seed(10)\n",
        "\n",
        "avg_expected_loss, avg_bias, avg_var = bias_variance_decomp(\n",
        "        lr_model, X_train, y_train, X_test, y_test, \n",
        "        loss='mse',\n",
        "        num_rounds=100,\n",
        "        random_seed=42,\n",
        "        epochs=200, \n",
        "        verbose=0) \n",
        "\n",
        "\n",
        "print('Average expected loss using NN = %.3f' % avg_expected_loss)\n",
        "print('Average bias using NN= %.3f' % avg_bias)\n",
        "print('Average variance using NN= %.3f' % avg_var)"
      ],
      "execution_count": 22,
      "outputs": [
        {
          "output_type": "stream",
          "text": [
            "Train set shape: (404, 13) (404,)\n",
            "Test set shape: (102, 13) (102,)\n",
            "\n",
            "Average MSE using NN= 29.91268144193455\n",
            "Average expected loss using NN = 28.041\n",
            "Average bias using NN= 24.157\n",
            "Average variance using NN= 3.883\n"
          ],
          "name": "stdout"
        }
      ]
    }
  ]
}